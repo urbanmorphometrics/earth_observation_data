{
 "metadata": {
  "language_info": {
   "codemirror_mode": {
    "name": "ipython",
    "version": 3
   },
   "file_extension": ".py",
   "mimetype": "text/x-python",
   "name": "python",
   "nbconvert_exporter": "python",
   "pygments_lexer": "ipython3",
   "version": 3
  },
  "orig_nbformat": 2
 },
 "nbformat": 4,
 "nbformat_minor": 2,
 "cells": [
  {
   "cell_type": "code",
   "execution_count": null,
   "metadata": {},
   "outputs": [],
   "source": [
    "import geopandas as gpd\n",
    "import momepy as mm\n",
    "import osmnx as ox\n",
    "import numpy as np\n",
    "from shapely.geometry import box\n",
    "import utils"
   ]
  },
  {
   "cell_type": "code",
   "execution_count": null,
   "metadata": {},
   "outputs": [],
   "source": [
    "buildings = gpd.read_file()"
   ]
  },
  {
   "cell_type": "code",
   "execution_count": null,
   "metadata": {},
   "outputs": [],
   "source": [
    "boundary = gpd.GeoSeries([box(*buildings.total_bounds).buffer(200)], crs=buildings.crs).to_crs(4326).iloc[0]"
   ]
  },
  {
   "cell_type": "code",
   "execution_count": null,
   "metadata": {},
   "outputs": [],
   "source": [
    "G = ox.graph_from_polygon(boundary, network_type='all')\n",
    "edges = ox.graph_to_gdfs(G_proj, nodes=False, edges=True, node_geometry=False, fill_edge_geometry=True).to_crs(buildings.crs)"
   ]
  },
  {
   "cell_type": "code",
   "execution_count": null,
   "metadata": {},
   "outputs": [],
   "source": [
    "edges = mm.remove_false_nodes(edges.explode().reset_index(drop=True))"
   ]
  },
  {
   "cell_type": "code",
   "execution_count": null,
   "metadata": {},
   "outputs": [],
   "source": [
    "edges.to_parquet('../../nairobi/edges.pq')"
   ]
  },
  {
   "source": [
    "## Preprocess buildings"
   ],
   "cell_type": "markdown",
   "metadata": {}
  },
  {
   "cell_type": "code",
   "execution_count": null,
   "metadata": {},
   "outputs": [],
   "source": [
    "buildings.geometry = buildings.buffer(0)\n",
    "buildings = buildings.reset_index(drop=True).explode().reset_index(drop=True)"
   ]
  },
  {
   "cell_type": "code",
   "execution_count": null,
   "metadata": {},
   "outputs": [],
   "source": [
    "buildings.geom_type.value_counts()"
   ]
  },
  {
   "cell_type": "code",
   "execution_count": null,
   "metadata": {},
   "outputs": [],
   "source": [
    "buildings = buildings[buildings.area > 10]"
   ]
  },
  {
   "cell_type": "code",
   "execution_count": null,
   "metadata": {},
   "outputs": [],
   "source": [
    "buildings = gpd.GeoDataFrame(geometry=utils.fill_insides(buildings))\n",
    "buildings[\"uID\"] = range(len(buildings))\n",
    "buildings.crs"
   ]
  },
  {
   "cell_type": "code",
   "execution_count": null,
   "metadata": {},
   "outputs": [],
   "source": [
    "buildings.to_parquet('../../nairobi/buildings.pq')"
   ]
  },
  {
   "source": [
    "## Generate tessellation"
   ],
   "cell_type": "markdown",
   "metadata": {}
  },
  {
   "cell_type": "code",
   "execution_count": null,
   "metadata": {},
   "outputs": [],
   "source": [
    "check = mm.CheckTessellationInput(buildings)"
   ]
  },
  {
   "cell_type": "code",
   "execution_count": null,
   "metadata": {},
   "outputs": [],
   "source": [
    "# add removal"
   ]
  },
  {
   "cell_type": "code",
   "execution_count": null,
   "metadata": {},
   "outputs": [],
   "source": [
    "limit = mm.buffered_limit(buildings, 100)\n",
    "tess = mm.Tessellation(buildings, \"uID\", limit, segment=2).tessellation"
   ]
  },
  {
   "cell_type": "code",
   "execution_count": null,
   "metadata": {},
   "outputs": [],
   "source": [
    "tess.to_parquet('../../nairobi/tessellation.pq')"
   ]
  },
  {
   "source": [
    "## Generate blocks"
   ],
   "cell_type": "markdown",
   "metadata": {}
  },
  {
   "cell_type": "code",
   "execution_count": null,
   "metadata": {},
   "outputs": [],
   "source": [
    "extended = mm.extend_lines(edges, 20)"
   ]
  },
  {
   "cell_type": "code",
   "execution_count": null,
   "metadata": {},
   "outputs": [],
   "source": [
    "blocks, b_id, t_id = utils.new_blocks(tess, extended, buildings, id_name='bID', unique_id='uID')\n",
    "buildings['bID'] = b_id\n",
    "tessellation['bID'] = t_id"
   ]
  },
  {
   "source": [
    "blocks.to_parquet('../../nairobi/blocks.pq')"
   ],
   "cell_type": "code",
   "metadata": {},
   "execution_count": null,
   "outputs": []
  },
  {
   "source": [
    "## Link streets"
   ],
   "cell_type": "markdown",
   "metadata": {}
  },
  {
   "cell_type": "code",
   "execution_count": null,
   "metadata": {},
   "outputs": [],
   "source": [
    "edges[\"nID\"] = range(len(edges))\n",
    "buildings['nID'] = mm.get_network_id(buildings, edges, 'nID', min_size=500)  \n",
    "tess = tess.merge(buildings[['uID', 'nID']], on='uID', how='left')"
   ]
  },
  {
   "cell_type": "code",
   "execution_count": null,
   "metadata": {},
   "outputs": [],
   "source": [
    "tess.to_parquet('../../nairobi/tessellation.pq')\n",
    "buildings.to_parquet('../../nairobi/buildings.pq')\n",
    "edges.to_parquet('../../nairobi/edges.pq')"
   ]
  }
 ]
}