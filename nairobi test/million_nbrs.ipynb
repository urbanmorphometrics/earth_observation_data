{
 "cells": [
  {
   "cell_type": "code",
   "execution_count": 1,
   "id": "lovely-essence",
   "metadata": {},
   "outputs": [],
   "source": [
    "from download import download"
   ]
  },
  {
   "cell_type": "code",
   "execution_count": 2,
   "id": "weighted-louis",
   "metadata": {},
   "outputs": [
    {
     "name": "stdout",
     "output_type": "stream",
     "text": [
      "Downloading data from https://public.boxcloud.com/d/1/b1!0EIDrZnfhI8-v4mFcQX8hqH7zKiU8rjMF538cCUEJo4hLU7lOsDeZJXbhr3rXS2Q3hZrjuXPgj0qOnyTHnBicFe6acHO2qlxhluPl2yEMCC22wPXGzTnaesLlWDjC_4wPAhBIcxuHhMTKTKYVWq0BO5LG9FpR3hfSuGSRRmZ9VTh6ho8B-gb7Xeff4KTfac6DbCgUzUfpXnyXsdVoveCeIykmAWRYDX-PQw6dpkZQaOs7vO_QRWNnGSrUQ_CHQOgkh7phO8lxv0Qkol4mc-M2hrGaZ-gtMcXhalUFGGFPgegrOiW8XHgddQyU_NwMx-RRrroGl32i4ddRyeQW1wMHrMN6CMQRpk3G5RjT2ZTcjyjjtbXMxC39P3CdLEClbQV0cRW1IJflnn6hirfjqRvSNKcYS6Lou40zjUGgEWS4UTk66o2GIATPDHvRaD1jIs3egPv7ZhNvxLMWc8eefnIRM5GLEljMjDa3riZq6yV-NEEp2h7rwZdZZ8cl-ClMG2cMkKUyW-_oOi2PwrPTu3QNfErLjgKtWZMe1TUEffYKJ-zy1rfZH1xeMJGYfqwlP6l72D78l_PCtWAJid6bWyaLePSnS2fxgv1lQsTdpnqvgV8KRJgIdAzzOZ3ICsJJRU4Ne_AIJUKGZ2uMABn1sIhrOtQTITkOW112W2NEwJxMPWpkpfuEqogrd5NtM2ta8X8O_JzO1xkhL56UeEZ2zi3DwwjLXbV-lGNWAVTPCizMMeiCbE4NwU7JUvtXHQrSDWyymUXT4WIJnnc4p3rII3ZppgzI0oIFo0iL0O2gLU5SYGBgggvVvk9GIcT4fmcvia5-hC2oDo8g6fEdaIVKirOlu35jlaD9Dyzp9YX8UDTtMoJK4eOv77N6XSR1RSMUiDUlM9B8vhh_FdZaveVabS0DxRMb9JJbeNPiwIsSchfGw_b_YTIWcPNsrigohCuLPn2PfLzG4Xk1XPc3gTj9X7mExlzHwcYjnhR4QppRMUsaFjQKhT6SuDDMhPfLrOkctxvIPv5HOrs-ote_grcejkOfMnvofHPecxGyRuTBxo6qKt0DGIYV7xXywQ-4Sv0pT04lBtZTa5nBcPmE4tLmtAJ_gBFNQ14pVF_lqFPzWfHP5RJw14z3HVDAK7pWRPoD6naAKJHmUgMY_nZNfzMydrFWjyP5IfYlxV7mAVB6gTrQDBElIjkmYIERwuZv-0PCmVRTerDy5e6nOk8WoIE2_5meehaIX-RqlTbtUhGYpgBDbwZ7X-quk6lpyf9016-nwee-FnggwlT_2JTWCY./download (5.06 GB)\n",
      "\n",
      "file_sizes: 100%|██████████████████████████| 5.43G/5.43G [07:45<00:00, 11.7MB/s]\n",
      "Successfully downloaded file to ../../urbangrammar_samba/million_neighbourhoods/africa.zip\n"
     ]
    },
    {
     "data": {
      "text/plain": [
       "'../../urbangrammar_samba/million_neighbourhoods/africa.zip'"
      ]
     },
     "execution_count": 2,
     "metadata": {},
     "output_type": "execute_result"
    }
   ],
   "source": [
    "download(\"https://public.boxcloud.com/d/1/b1!0EIDrZnfhI8-v4mFcQX8hqH7zKiU8rjMF538cCUEJo4hLU7lOsDeZJXbhr3rXS2Q3hZrjuXPgj0qOnyTHnBicFe6acHO2qlxhluPl2yEMCC22wPXGzTnaesLlWDjC_4wPAhBIcxuHhMTKTKYVWq0BO5LG9FpR3hfSuGSRRmZ9VTh6ho8B-gb7Xeff4KTfac6DbCgUzUfpXnyXsdVoveCeIykmAWRYDX-PQw6dpkZQaOs7vO_QRWNnGSrUQ_CHQOgkh7phO8lxv0Qkol4mc-M2hrGaZ-gtMcXhalUFGGFPgegrOiW8XHgddQyU_NwMx-RRrroGl32i4ddRyeQW1wMHrMN6CMQRpk3G5RjT2ZTcjyjjtbXMxC39P3CdLEClbQV0cRW1IJflnn6hirfjqRvSNKcYS6Lou40zjUGgEWS4UTk66o2GIATPDHvRaD1jIs3egPv7ZhNvxLMWc8eefnIRM5GLEljMjDa3riZq6yV-NEEp2h7rwZdZZ8cl-ClMG2cMkKUyW-_oOi2PwrPTu3QNfErLjgKtWZMe1TUEffYKJ-zy1rfZH1xeMJGYfqwlP6l72D78l_PCtWAJid6bWyaLePSnS2fxgv1lQsTdpnqvgV8KRJgIdAzzOZ3ICsJJRU4Ne_AIJUKGZ2uMABn1sIhrOtQTITkOW112W2NEwJxMPWpkpfuEqogrd5NtM2ta8X8O_JzO1xkhL56UeEZ2zi3DwwjLXbV-lGNWAVTPCizMMeiCbE4NwU7JUvtXHQrSDWyymUXT4WIJnnc4p3rII3ZppgzI0oIFo0iL0O2gLU5SYGBgggvVvk9GIcT4fmcvia5-hC2oDo8g6fEdaIVKirOlu35jlaD9Dyzp9YX8UDTtMoJK4eOv77N6XSR1RSMUiDUlM9B8vhh_FdZaveVabS0DxRMb9JJbeNPiwIsSchfGw_b_YTIWcPNsrigohCuLPn2PfLzG4Xk1XPc3gTj9X7mExlzHwcYjnhR4QppRMUsaFjQKhT6SuDDMhPfLrOkctxvIPv5HOrs-ote_grcejkOfMnvofHPecxGyRuTBxo6qKt0DGIYV7xXywQ-4Sv0pT04lBtZTa5nBcPmE4tLmtAJ_gBFNQ14pVF_lqFPzWfHP5RJw14z3HVDAK7pWRPoD6naAKJHmUgMY_nZNfzMydrFWjyP5IfYlxV7mAVB6gTrQDBElIjkmYIERwuZv-0PCmVRTerDy5e6nOk8WoIE2_5meehaIX-RqlTbtUhGYpgBDbwZ7X-quk6lpyf9016-nwee-FnggwlT_2JTWCY./download\",\n",
    "        \"../../urbangrammar_samba/million_neighbourhoods/africa.zip\")"
   ]
  },
  {
   "cell_type": "code",
   "execution_count": null,
   "id": "naughty-completion",
   "metadata": {},
   "outputs": [],
   "source": []
  }
 ],
 "metadata": {
  "kernelspec": {
   "display_name": "Python 3",
   "language": "python",
   "name": "python3"
  },
  "language_info": {
   "codemirror_mode": {
    "name": "ipython",
    "version": 3
   },
   "file_extension": ".py",
   "mimetype": "text/x-python",
   "name": "python",
   "nbconvert_exporter": "python",
   "pygments_lexer": "ipython3",
   "version": "3.8.8"
  }
 },
 "nbformat": 4,
 "nbformat_minor": 5
}
