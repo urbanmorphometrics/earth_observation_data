{
 "cells": [
  {
   "cell_type": "code",
   "execution_count": 1,
   "metadata": {},
   "outputs": [],
   "source": [
    "import geopandas as gpd\n",
    "import momepy as mm\n",
    "from tqdm import tqdm\n",
    "from momepy import limit_range\n",
    "import numpy as np\n",
    "import pandas as pd\n",
    "from inequality.theil import Theil\n",
    "import libpysal\n",
    "import scipy as sp\n",
    "import mapclassify\n",
    "import mapclassify.classifiers as classifiers"
   ]
  },
  {
   "cell_type": "code",
   "execution_count": 2,
   "metadata": {},
   "outputs": [],
   "source": [
    "blg = gpd.read_parquet('../../nairobi/buildings.pq')\n",
    "streets = gpd.read_parquet('../../nairobi/edges.pq')\n",
    "tess = gpd.read_parquet('../../nairobi/tessellation.pq')\n",
    "blocks = gpd.read_parquet('../../nairobi/blocks.pq')"
   ]
  },
  {
   "cell_type": "markdown",
   "metadata": {},
   "source": [
    "## Measure"
   ]
  },
  {
   "cell_type": "code",
   "execution_count": 3,
   "metadata": {},
   "outputs": [
    {
     "name": "stderr",
     "output_type": "stream",
     "text": [
      " 46%|████▌     | 230978/507532 [00:32<00:39, 7017.49it/s]/opt/conda/lib/python3.8/site-packages/momepy/shape.py:773: RuntimeWarning: invalid value encountered in arccos\n",
      "  angle = np.arccos(cosine_angle)\n",
      "100%|██████████| 507532/507532 [01:14<00:00, 6779.59it/s]\n",
      " 46%|████▌     | 231102/507532 [00:52<01:01, 4523.21it/s]/opt/conda/lib/python3.8/site-packages/momepy/shape.py:862: RuntimeWarning: invalid value encountered in arccos\n",
      "  angle = np.degrees(np.arccos(cosine_angle))\n",
      "100%|██████████| 507532/507532 [01:59<00:00, 4237.94it/s]\n"
     ]
    }
   ],
   "source": [
    "blg['sdbAre'] = mm.Area(blg).series\n",
    "blg['sdbPer'] = mm.Perimeter(blg).series\n",
    "blg['ssbCCo'] = mm.CircularCompactness(blg, 'sdbAre').series\n",
    "blg['ssbCor'] = mm.Corners(blg).series\n",
    "blg['ssbSqu'] = mm.Squareness(blg).series\n",
    "blg['ssbERI'] = mm.EquivalentRectangularIndex(blg, 'sdbAre', 'sdbPer').series\n",
    "blg['ssbElo'] = mm.Elongation(blg).series"
   ]
  },
  {
   "cell_type": "code",
   "execution_count": 4,
   "metadata": {},
   "outputs": [
    {
     "name": "stderr",
     "output_type": "stream",
     "text": [
      " 46%|████▌     | 231144/507532 [01:07<01:22, 3366.12it/s]/opt/conda/lib/python3.8/site-packages/momepy/shape.py:1080: RuntimeWarning: invalid value encountered in arccos\n",
      "  angle = np.arccos(cosine_angle)\n",
      "100%|██████████| 507532/507532 [02:32<00:00, 3325.20it/s]\n"
     ]
    }
   ],
   "source": [
    "cencon = mm.CentroidCorners(blg)\n",
    "blg['ssbCCM'] = cencon.mean\n",
    "blg['ssbCCD'] = cencon.std"
   ]
  },
  {
   "cell_type": "code",
   "execution_count": 5,
   "metadata": {},
   "outputs": [
    {
     "name": "stderr",
     "output_type": "stream",
     "text": [
      "100%|██████████| 507532/507532 [02:36<00:00, 3246.59it/s]\n",
      "100%|██████████| 506435/506435 [06:32<00:00, 1290.98it/s]\n"
     ]
    }
   ],
   "source": [
    "blg['stbOri'] = mm.Orientation(blg).series\n",
    "tess['stcOri'] = mm.Orientation(tess).series\n",
    "blg['stbCeA'] = mm.CellAlignment(blg, tess, 'stbOri', 'stcOri', 'uID', 'uID').series"
   ]
  },
  {
   "cell_type": "code",
   "execution_count": 6,
   "metadata": {},
   "outputs": [],
   "source": [
    "tess['sdcLAL'] = mm.LongestAxisLength(tess).series\n",
    "tess['sdcAre'] = mm.Area(tess).series\n",
    "tess['sscCCo'] = mm.CircularCompactness(tess, 'sdcAre').series\n",
    "tess['sscERI'] = mm.EquivalentRectangularIndex(tess, 'sdcAre').series\n",
    "tess['sicCAR'] = mm.AreaRatio(tess, blg, 'sdcAre', 'sdbAre', 'uID').series"
   ]
  },
  {
   "cell_type": "code",
   "execution_count": 7,
   "metadata": {},
   "outputs": [
    {
     "name": "stderr",
     "output_type": "stream",
     "text": [
      "100%|██████████| 507532/507532 [03:32<00:00, 2391.48it/s]\n",
      "100%|██████████| 507532/507532 [03:40<00:00, 2304.01it/s]\n",
      "100%|██████████| 506435/506435 [00:04<00:00, 110095.10it/s]\n",
      "100%|██████████| 506435/506435 [01:25<00:00, 5941.44it/s]\n"
     ]
    }
   ],
   "source": [
    "queen_1 = libpysal.weights.contiguity.Queen.from_dataframe(tess, ids=\"uID\", silence_warnings=True)\n",
    " \n",
    "blg[\"mtbAli\"] = mm.Alignment(blg, queen_1, \"uID\", \"stbOri\").series\n",
    "blg[\"mtbNDi\"] = mm.NeighborDistance(blg, queen_1, \"uID\").series\n",
    "tess[\"mtcWNe\"] = mm.Neighbors(tess, queen_1, \"uID\", weighted=True).series\n",
    "tess[\"mdcAre\"] = mm.CoveredArea(tess, queen_1, \"uID\").series"
   ]
  },
  {
   "cell_type": "code",
   "execution_count": 9,
   "metadata": {},
   "outputs": [
    {
     "name": "stderr",
     "output_type": "stream",
     "text": [
      "100%|██████████| 12191/12191 [00:14<00:00, 825.05it/s]\n",
      "100%|██████████| 12191/12191 [00:00<00:00, 96794.87it/s]\n"
     ]
    }
   ],
   "source": [
    "blocks[\"ldkAre\"] = mm.Area(blocks).series\n",
    "blocks[\"ldkPer\"] = mm.Perimeter(blocks).series\n",
    "blocks[\"lskCCo\"] = mm.CircularCompactness(blocks, \"ldkAre\").series\n",
    "blocks[\"lskERI\"] = mm.EquivalentRectangularIndex(blocks, \"ldkAre\", \"ldkPer\").series\n",
    "blocks[\"lskCWA\"] = mm.CompactnessWeightedAxis(blocks, \"ldkAre\", \"ldkPer\").series\n",
    "blocks[\"ltkOri\"] = mm.Orientation(blocks).series\n",
    " \n",
    "blo_q1 = libpysal.weights.contiguity.Queen.from_dataframe(blocks, ids=\"bID\", silence_warnings=True)\n",
    " \n",
    "blocks[\"ltkWNB\"] = mm.Neighbors(blocks, blo_q1, \"bID\", weighted=True).series\n",
    "blocks[\"likWBB\"] = mm.Count(blocks, blg, \"bID\", \"bID\", weighted=True).series"
   ]
  },
  {
   "cell_type": "code",
   "execution_count": 11,
   "metadata": {},
   "outputs": [
    {
     "name": "stderr",
     "output_type": "stream",
     "text": [
      "<ipython-input-11-5b763fe89c32>:1: UserWarning: this is an initial implementation of Parquet/Feather file support and associated metadata.  This is tracking version 0.1.0 of the metadata specification at https://github.com/geopandas/geo-arrow-spec\n",
      "\n",
      "This metadata specification does not yet make stability promises.  We do not yet recommend using this in a production setting unless you are able to rewrite your Parquet/Feather files.\n",
      "\n",
      "To further ignore this warning, you can do: \n",
      "import warnings; warnings.filterwarnings('ignore', message='.*initial implementation of Parquet.*')\n",
      "  tess.drop(columns='geometry').to_parquet('../../nairobi/tess_data.parquet')\n",
      "<ipython-input-11-5b763fe89c32>:2: UserWarning: this is an initial implementation of Parquet/Feather file support and associated metadata.  This is tracking version 0.1.0 of the metadata specification at https://github.com/geopandas/geo-arrow-spec\n",
      "\n",
      "This metadata specification does not yet make stability promises.  We do not yet recommend using this in a production setting unless you are able to rewrite your Parquet/Feather files.\n",
      "\n",
      "To further ignore this warning, you can do: \n",
      "import warnings; warnings.filterwarnings('ignore', message='.*initial implementation of Parquet.*')\n",
      "  blg.drop(columns='geometry').to_parquet('../../nairobi/blg_data.parquet')\n",
      "<ipython-input-11-5b763fe89c32>:3: UserWarning: this is an initial implementation of Parquet/Feather file support and associated metadata.  This is tracking version 0.1.0 of the metadata specification at https://github.com/geopandas/geo-arrow-spec\n",
      "\n",
      "This metadata specification does not yet make stability promises.  We do not yet recommend using this in a production setting unless you are able to rewrite your Parquet/Feather files.\n",
      "\n",
      "To further ignore this warning, you can do: \n",
      "import warnings; warnings.filterwarnings('ignore', message='.*initial implementation of Parquet.*')\n",
      "  blocks.drop(columns='geometry').to_parquet('../../nairobi/blocks_data.parquet')\n"
     ]
    }
   ],
   "source": [
    "tess.drop(columns='geometry').to_parquet('../../nairobi/tess_data.parquet')\n",
    "blg.drop(columns='geometry').to_parquet('../../nairobi/blg_data.parquet')\n",
    "blocks.drop(columns='geometry').to_parquet('../../nairobi/blocks_data.parquet')"
   ]
  },
  {
   "cell_type": "code",
   "execution_count": 12,
   "metadata": {},
   "outputs": [
    {
     "name": "stderr",
     "output_type": "stream",
     "text": [
      "  0%|          | 324/507532 [00:00<05:12, 1625.52it/s]"
     ]
    },
    {
     "name": "stdout",
     "output_type": "stream",
     "text": [
      "Computing mean interbuilding distances...\n"
     ]
    },
    {
     "name": "stderr",
     "output_type": "stream",
     "text": [
      "100%|██████████| 507532/507532 [08:30<00:00, 994.32it/s] \n",
      "Calculating adjacency: 100%|██████████| 507532/507532 [00:03<00:00, 156483.19it/s]\n"
     ]
    }
   ],
   "source": [
    "queen3 = mm.sw_high(k=3, weights=queen_1)\n",
    "queen1 = queen_1\n",
    "blg_queen = blg_q1\n",
    "\n",
    "blg['ltbIBD'] = mm.MeanInterbuildingDistance(blg, queen1, 'uID', queen3).series\n",
    "blg['ltcBuA'] = mm.BuildingAdjacency(blg, queen3, 'uID', blg_queen).series"
   ]
  },
  {
   "cell_type": "code",
   "execution_count": 13,
   "metadata": {},
   "outputs": [
    {
     "name": "stderr",
     "output_type": "stream",
     "text": [
      "100%|██████████| 506435/506435 [06:22<00:00, 1325.50it/s]\n"
     ]
    }
   ],
   "source": [
    "tess = tess.merge(blg[['uID']], on='uID', how='left')\n",
    "\n",
    "tess['ltcWRB'] = mm.BlocksCount(tess, 'bID', queen3, 'uID').series"
   ]
  },
  {
   "cell_type": "code",
   "execution_count": 14,
   "metadata": {},
   "outputs": [
    {
     "name": "stderr",
     "output_type": "stream",
     "text": [
      "<ipython-input-14-bd7e78ee6eca>:1: UserWarning: this is an initial implementation of Parquet/Feather file support and associated metadata.  This is tracking version 0.1.0 of the metadata specification at https://github.com/geopandas/geo-arrow-spec\n",
      "\n",
      "This metadata specification does not yet make stability promises.  We do not yet recommend using this in a production setting unless you are able to rewrite your Parquet/Feather files.\n",
      "\n",
      "To further ignore this warning, you can do: \n",
      "import warnings; warnings.filterwarnings('ignore', message='.*initial implementation of Parquet.*')\n",
      "  tess.drop(columns='geometry').to_parquet('../../nairobi/tess_data.parquet')\n",
      "<ipython-input-14-bd7e78ee6eca>:2: UserWarning: this is an initial implementation of Parquet/Feather file support and associated metadata.  This is tracking version 0.1.0 of the metadata specification at https://github.com/geopandas/geo-arrow-spec\n",
      "\n",
      "This metadata specification does not yet make stability promises.  We do not yet recommend using this in a production setting unless you are able to rewrite your Parquet/Feather files.\n",
      "\n",
      "To further ignore this warning, you can do: \n",
      "import warnings; warnings.filterwarnings('ignore', message='.*initial implementation of Parquet.*')\n",
      "  blg.drop(columns='geometry').to_parquet('../../nairobi/blg_data.parquet')\n"
     ]
    }
   ],
   "source": [
    "tess.drop(columns='geometry').to_parquet('../../nairobi/tess_data.parquet')\n",
    "blg.drop(columns='geometry').to_parquet('../../nairobi/blg_data.parquet')\n",
    " \n",
    "fo = libpysal.io.open('../../nairobi/queen1.gal', 'w')\n",
    "fo.write(queen1)\n",
    "fo.close()\n",
    " \n",
    "fo = libpysal.io.open('../../nairobi/queen3.gal', 'w')\n",
    "fo.write(queen3)\n",
    "fo.close()\n",
    " \n",
    "fo = libpysal.io.open('../../nairobi/blg_queen.gal', 'w')\n",
    "fo.write(blg_queen)\n",
    "fo.close()"
   ]
  },
  {
   "cell_type": "code",
   "execution_count": 15,
   "metadata": {},
   "outputs": [
    {
     "name": "stderr",
     "output_type": "stream",
     "text": [
      "/opt/conda/lib/python3.8/site-packages/numpy/lib/nanfunctions.py:1664: RuntimeWarning: Degrees of freedom <= 0 for slice.\n",
      "  var = nanvar(a, axis=axis, dtype=dtype, out=out, ddof=ddof,\n",
      "/opt/conda/lib/python3.8/site-packages/momepy/dimension.py:626: RuntimeWarning: invalid value encountered in long_scalars\n",
      "  openness.append(np.isnan(s).sum() / (f).sum())\n",
      "100%|██████████| 115518/115518 [05:14<00:00, 366.90it/s]\n"
     ]
    }
   ],
   "source": [
    "streets[\"sdsLen\"] = mm.Perimeter(streets).series\n",
    "tess[\"stcSAl\"] = mm.StreetAlignment(tess, streets, \"stcOri\", \"nID\").series\n",
    "blg[\"stbSAl\"] = mm.StreetAlignment(blg, streets, \"stbOri\", \"nID\").series\n",
    "\n",
    "profile = mm.StreetProfile(streets, blg, distance=3)\n",
    "streets[\"sdsSPW\"] = profile.w\n",
    "streets[\"sdsSPO\"] = profile.o\n",
    "streets[\"sdsSWD\"] = profile.wd\n",
    " \n",
    "streets[\"sssLin\"] = mm.Linearity(streets).series\n",
    "streets[\"sdsAre\"] = mm.Reached(streets, tess, \"nID\", \"nID\", mode=\"sum\", values=\"sdcAre\").series\n",
    "streets[\"sisBpM\"] = mm.Count(streets, blg, \"nID\", \"nID\", weighted=True).series"
   ]
  },
  {
   "cell_type": "code",
   "execution_count": 16,
   "metadata": {},
   "outputs": [
    {
     "name": "stderr",
     "output_type": "stream",
     "text": [
      "<ipython-input-16-6c060e936c79>:1: UserWarning: this is an initial implementation of Parquet/Feather file support and associated metadata.  This is tracking version 0.1.0 of the metadata specification at https://github.com/geopandas/geo-arrow-spec\n",
      "\n",
      "This metadata specification does not yet make stability promises.  We do not yet recommend using this in a production setting unless you are able to rewrite your Parquet/Feather files.\n",
      "\n",
      "To further ignore this warning, you can do: \n",
      "import warnings; warnings.filterwarnings('ignore', message='.*initial implementation of Parquet.*')\n",
      "  tess.drop(columns='geometry').to_parquet('../../nairobi/tess_data.parquet')\n",
      "<ipython-input-16-6c060e936c79>:2: UserWarning: this is an initial implementation of Parquet/Feather file support and associated metadata.  This is tracking version 0.1.0 of the metadata specification at https://github.com/geopandas/geo-arrow-spec\n",
      "\n",
      "This metadata specification does not yet make stability promises.  We do not yet recommend using this in a production setting unless you are able to rewrite your Parquet/Feather files.\n",
      "\n",
      "To further ignore this warning, you can do: \n",
      "import warnings; warnings.filterwarnings('ignore', message='.*initial implementation of Parquet.*')\n",
      "  blg.drop(columns='geometry').to_parquet('../../nairobi/blg_data.parquet')\n",
      "<ipython-input-16-6c060e936c79>:3: UserWarning: this is an initial implementation of Parquet/Feather file support and associated metadata.  This is tracking version 0.1.0 of the metadata specification at https://github.com/geopandas/geo-arrow-spec\n",
      "\n",
      "This metadata specification does not yet make stability promises.  We do not yet recommend using this in a production setting unless you are able to rewrite your Parquet/Feather files.\n",
      "\n",
      "To further ignore this warning, you can do: \n",
      "import warnings; warnings.filterwarnings('ignore', message='.*initial implementation of Parquet.*')\n",
      "  streets.drop(columns='geometry').to_parquet('../../nairobi/streets_data.parquet')\n"
     ]
    }
   ],
   "source": [
    "tess.drop(columns='geometry').to_parquet('../../nairobi/tess_data.parquet')\n",
    "blg.drop(columns='geometry').to_parquet('../../nairobi/blg_data.parquet')\n",
    "streets.drop(columns='geometry').to_parquet('../../nairobi/streets_data.parquet')"
   ]
  },
  {
   "cell_type": "code",
   "execution_count": 17,
   "metadata": {},
   "outputs": [
    {
     "name": "stderr",
     "output_type": "stream",
     "text": [
      "100%|██████████| 115518/115518 [00:56<00:00, 2028.26it/s]\n",
      "100%|██████████| 115518/115518 [14:26<00:00, 133.26it/s]\n"
     ]
    }
   ],
   "source": [
    "str_q1 = libpysal.weights.contiguity.Queen.from_dataframe(streets)\n",
    " \n",
    "streets[\"misRea\"] = mm.Reached(\n",
    "    streets, tess, \"nID\", \"nID\", spatial_weights=str_q1, mode=\"count\"\n",
    ").series\n",
    "streets[\"mdsAre\"] = mm.Reached(streets, tess, \"nID\", \"nID\", spatial_weights=str_q1,\n",
    "                               mode=\"sum\").series"
   ]
  },
  {
   "cell_type": "code",
   "execution_count": 18,
   "metadata": {},
   "outputs": [
    {
     "name": "stdout",
     "output_type": "stream",
     "text": [
      "node degree\n",
      "subgraph\n"
     ]
    },
    {
     "name": "stderr",
     "output_type": "stream",
     "text": [
      "100%|██████████| 53367/53367 [01:12<00:00, 739.29it/s] \n"
     ]
    },
    {
     "name": "stdout",
     "output_type": "stream",
     "text": [
      "cds length\n"
     ]
    },
    {
     "name": "stderr",
     "output_type": "stream",
     "text": [
      "100%|██████████| 53367/53367 [00:27<00:00, 1938.84it/s]\n"
     ]
    },
    {
     "name": "stdout",
     "output_type": "stream",
     "text": [
      "clustering\n",
      "mean_node_dist\n"
     ]
    },
    {
     "name": "stderr",
     "output_type": "stream",
     "text": [
      "100%|██████████| 53367/53367 [00:00<00:00, 68858.41it/s]\n"
     ]
    },
    {
     "name": "stdout",
     "output_type": "stream",
     "text": [
      "saving\n"
     ]
    },
    {
     "name": "stderr",
     "output_type": "stream",
     "text": [
      "<ipython-input-18-5e698dbfc976>:35: UserWarning: this is an initial implementation of Parquet/Feather file support and associated metadata.  This is tracking version 0.1.0 of the metadata specification at https://github.com/geopandas/geo-arrow-spec\n",
      "\n",
      "This metadata specification does not yet make stability promises.  We do not yet recommend using this in a production setting unless you are able to rewrite your Parquet/Feather files.\n",
      "\n",
      "To further ignore this warning, you can do: \n",
      "import warnings; warnings.filterwarnings('ignore', message='.*initial implementation of Parquet.*')\n",
      "  nodes.to_parquet('../../nairobi/g_nodes.pq')\n",
      "<ipython-input-18-5e698dbfc976>:36: UserWarning: this is an initial implementation of Parquet/Feather file support and associated metadata.  This is tracking version 0.1.0 of the metadata specification at https://github.com/geopandas/geo-arrow-spec\n",
      "\n",
      "This metadata specification does not yet make stability promises.  We do not yet recommend using this in a production setting unless you are able to rewrite your Parquet/Feather files.\n",
      "\n",
      "To further ignore this warning, you can do: \n",
      "import warnings; warnings.filterwarnings('ignore', message='.*initial implementation of Parquet.*')\n",
      "  edges.to_parquet('../../nairobi/g_edges.pq')\n",
      "100%|██████████| 115518/115518 [00:08<00:00, 13271.10it/s]\n",
      "100%|██████████| 115518/115518 [01:02<00:00, 1846.53it/s]\n",
      "100%|██████████| 115518/115518 [15:55<00:00, 120.89it/s]\n",
      "100%|██████████| 53367/53367 [01:54<00:00, 466.81it/s]\n",
      "100%|██████████| 53367/53367 [02:26<00:00, 364.63it/s]\n",
      "100%|██████████| 507532/507532 [02:50<00:00, 2978.11it/s]\n",
      "100%|██████████| 53367/53367 [00:25<00:00, 2101.79it/s]\n",
      "100%|██████████| 53367/53367 [07:13<00:00, 123.20it/s]\n",
      "100%|██████████| 53367/53367 [02:26<00:00, 365.50it/s]\n",
      "100%|██████████| 53367/53367 [00:24<00:00, 2136.33it/s]\n",
      "100%|██████████| 53367/53367 [04:58<00:00, 178.66it/s]\n"
     ]
    }
   ],
   "source": [
    "graph = mm.gdf_to_nx(streets)\n",
    " \n",
    "print(\"node degree\")\n",
    "graph = mm.node_degree(graph)\n",
    " \n",
    "print(\"subgraph\")\n",
    "graph = mm.subgraph(\n",
    "    graph,\n",
    "    radius=5,\n",
    "    meshedness=True,\n",
    "    cds_length=False,\n",
    "    mode=\"sum\",\n",
    "    degree=\"degree\",\n",
    "    length=\"mm_len\",\n",
    "    mean_node_degree=False,\n",
    "    proportion={0: True, 3: True, 4: True},\n",
    "    cyclomatic=False,\n",
    "    edge_node_ratio=False,\n",
    "    gamma=False,\n",
    "    local_closeness=True,\n",
    "    closeness_weight=\"mm_len\",\n",
    ")\n",
    "print(\"cds length\")\n",
    "graph = mm.cds_length(graph, radius=3, name=\"ldsCDL\")\n",
    " \n",
    "print(\"clustering\")\n",
    "graph = mm.clustering(graph, name=\"xcnSCl\")\n",
    " \n",
    "print(\"mean_node_dist\")\n",
    "graph = mm.mean_node_dist(graph, name=\"mtdMDi\")\n",
    " \n",
    "nodes, edges, sw = mm.nx_to_gdf(graph, spatial_weights=True)\n",
    " \n",
    "print(\"saving\")\n",
    "nodes.to_parquet('../../nairobi/g_nodes.pq')\n",
    "edges.to_parquet('../../nairobi/g_edges.pq')\n",
    " \n",
    "fo = libpysal.io.open('../../nairobi/nodes.gal', \"w\")\n",
    "fo.write(sw)\n",
    "fo.close()\n",
    " \n",
    "edges_w3 = mm.sw_high(k=3, gdf=edges)\n",
    "edges[\"ldsMSL\"] = mm.SegmentsLength(edges, spatial_weights=edges_w3, mean=True).series\n",
    " \n",
    "edges[\"ldsRea\"] = mm.Reached(edges, tess, \"nID\", \"nID\", spatial_weights=edges_w3).series\n",
    "edges[\"ldsRea\"] = mm.Reached(\n",
    "    edges, tess, \"nID\", \"nID\", spatial_weights=edges_w3, mode=\"sum\", values=\"sdcAre\"\n",
    ").series\n",
    " \n",
    "nodes_w5 = mm.sw_high(k=5, weights=sw)\n",
    "nodes[\"lddNDe\"] = mm.NodeDensity(nodes, edges, nodes_w5).series\n",
    "nodes[\"linWID\"] = mm.NodeDensity(\n",
    "    nodes, edges, nodes_w5, weighted=True, node_degree=\"degree\"\n",
    ").series\n",
    " \n",
    "blg[\"nodeID\"] = mm.get_node_id(blg, nodes, edges, \"nodeID\", \"nID\")\n",
    "tess = tess.merge(blg[[\"uID\", \"nodeID\"]], on=\"uID\", how=\"left\")\n",
    " \n",
    "nodes_w3 = mm.sw_high(k=3, weights=sw)\n",
    " \n",
    "nodes[\"lddRea\"] = mm.Reached(nodes, tess, \"nodeID\", \"nodeID\", nodes_w3).series\n",
    "nodes[\"lddARe\"] = mm.Reached(\n",
    "    nodes, tess, \"nodeID\", \"nodeID\", nodes_w3, mode=\"sum\", values=\"sdcAre\"\n",
    ").series\n",
    " \n",
    "nodes[\"sddAre\"] = mm.Reached(\n",
    "    nodes, tess, \"nodeID\", \"nodeID\", mode=\"sum\", values=\"sdcAre\"\n",
    ").series\n",
    "nodes[\"midRea\"] = mm.Reached(nodes, tess, \"nodeID\", \"nodeID\", spatial_weights=sw).series\n",
    "nodes[\"midAre\"] = mm.Reached(\n",
    "    nodes, tess, \"nodeID\", \"nodeID\", spatial_weights=sw, mode=\"sum\", values=\"sdcAre\"\n",
    ").series\n",
    " \n",
    "nodes.rename(\n",
    "    columns={\n",
    "        \"degree\": \"mtdDeg\",\n",
    "        \"meshedness\": \"lcdMes\",\n",
    "        \"local_closeness\": \"lcnClo\",\n",
    "        \"proportion_3\": \"linP3W\",\n",
    "        \"proportion_4\": \"linP4W\",\n",
    "        \"proportion_0\": \"linPDE\",\n",
    "    }, inplace=True\n",
    ")"
   ]
  },
  {
   "cell_type": "code",
   "execution_count": 19,
   "metadata": {},
   "outputs": [
    {
     "name": "stderr",
     "output_type": "stream",
     "text": [
      "<ipython-input-19-f1c2eb66ab77>:1: UserWarning: this is an initial implementation of Parquet/Feather file support and associated metadata.  This is tracking version 0.1.0 of the metadata specification at https://github.com/geopandas/geo-arrow-spec\n",
      "\n",
      "This metadata specification does not yet make stability promises.  We do not yet recommend using this in a production setting unless you are able to rewrite your Parquet/Feather files.\n",
      "\n",
      "To further ignore this warning, you can do: \n",
      "import warnings; warnings.filterwarnings('ignore', message='.*initial implementation of Parquet.*')\n",
      "  tess.drop(columns='geometry').to_parquet('../../nairobi/tess_data.parquet')\n",
      "<ipython-input-19-f1c2eb66ab77>:2: UserWarning: this is an initial implementation of Parquet/Feather file support and associated metadata.  This is tracking version 0.1.0 of the metadata specification at https://github.com/geopandas/geo-arrow-spec\n",
      "\n",
      "This metadata specification does not yet make stability promises.  We do not yet recommend using this in a production setting unless you are able to rewrite your Parquet/Feather files.\n",
      "\n",
      "To further ignore this warning, you can do: \n",
      "import warnings; warnings.filterwarnings('ignore', message='.*initial implementation of Parquet.*')\n",
      "  blg.drop(columns='geometry').to_parquet('../../nairobi/blg_data.parquet')\n",
      "<ipython-input-19-f1c2eb66ab77>:3: UserWarning: this is an initial implementation of Parquet/Feather file support and associated metadata.  This is tracking version 0.1.0 of the metadata specification at https://github.com/geopandas/geo-arrow-spec\n",
      "\n",
      "This metadata specification does not yet make stability promises.  We do not yet recommend using this in a production setting unless you are able to rewrite your Parquet/Feather files.\n",
      "\n",
      "To further ignore this warning, you can do: \n",
      "import warnings; warnings.filterwarnings('ignore', message='.*initial implementation of Parquet.*')\n",
      "  nodes.drop(columns='geometry').to_parquet('../../nairobi/nodes_data.parquet')\n",
      "<ipython-input-19-f1c2eb66ab77>:4: UserWarning: this is an initial implementation of Parquet/Feather file support and associated metadata.  This is tracking version 0.1.0 of the metadata specification at https://github.com/geopandas/geo-arrow-spec\n",
      "\n",
      "This metadata specification does not yet make stability promises.  We do not yet recommend using this in a production setting unless you are able to rewrite your Parquet/Feather files.\n",
      "\n",
      "To further ignore this warning, you can do: \n",
      "import warnings; warnings.filterwarnings('ignore', message='.*initial implementation of Parquet.*')\n",
      "  edges.drop(columns='geometry').to_parquet('../../nairobi/edges_data.parquet')\n"
     ]
    }
   ],
   "source": [
    "tess.drop(columns='geometry').to_parquet('../../nairobi/tess_data.parquet')\n",
    "blg.drop(columns='geometry').to_parquet('../../nairobi/blg_data.parquet')\n",
    "nodes.drop(columns='geometry').to_parquet('../../nairobi/nodes_data.parquet')\n",
    "edges.drop(columns='geometry').to_parquet('../../nairobi/edges_data.parquet')"
   ]
  },
  {
   "cell_type": "code",
   "execution_count": 20,
   "metadata": {},
   "outputs": [],
   "source": [
    "merged = tess.merge(blg.drop(columns=['nID', 'bID', 'nodeID', 'geometry']), on='uID')\n",
    "merged = merged.merge(blocks.drop(columns='geometry'), on='bID', how='left')\n",
    "merged = merged.merge(edges.drop(columns='geometry'), on='nID', how='left')\n",
    "merged = merged.merge(nodes.drop(columns='geometry'), on='nodeID', how='left')"
   ]
  },
  {
   "cell_type": "code",
   "execution_count": 21,
   "metadata": {},
   "outputs": [
    {
     "name": "stderr",
     "output_type": "stream",
     "text": [
      "<ipython-input-21-52050a5a525f>:2: UserWarning: this is an initial implementation of Parquet/Feather file support and associated metadata.  This is tracking version 0.1.0 of the metadata specification at https://github.com/geopandas/geo-arrow-spec\n",
      "\n",
      "This metadata specification does not yet make stability promises.  We do not yet recommend using this in a production setting unless you are able to rewrite your Parquet/Feather files.\n",
      "\n",
      "To further ignore this warning, you can do: \n",
      "import warnings; warnings.filterwarnings('ignore', message='.*initial implementation of Parquet.*')\n",
      "  primary.to_parquet('../../nairobi/primary.parquet')\n"
     ]
    }
   ],
   "source": [
    "primary = merged.drop(columns=['nID', 'bID', 'nodeID', 'mm_len', 'cdsbool', 'node_start', 'node_end', 'geometry'])\n",
    "primary.to_parquet('../../nairobi/primary.parquet')"
   ]
  },
  {
   "cell_type": "markdown",
   "metadata": {},
   "source": [
    "## Contextual"
   ]
  },
  {
   "cell_type": "code",
   "execution_count": 22,
   "metadata": {},
   "outputs": [],
   "source": [
    "def theil(y):\n",
    "    y = np.array(y)\n",
    "    n = len(y)\n",
    "    plus = y + np.finfo('float').tiny * (y == 0)  # can't have 0 values\n",
    "    yt = plus.sum(axis=0)\n",
    "    s = plus / (yt * 1.0)\n",
    "    lns = np.log(n * s)\n",
    "    slns = s * lns\n",
    "    t = sum(slns)\n",
    "    return t"
   ]
  },
  {
   "cell_type": "code",
   "execution_count": 2,
   "metadata": {},
   "outputs": [],
   "source": [
    "def _simpson_di(data):\n",
    "\n",
    "    def p(n, N):\n",
    "        if n == 0:\n",
    "            return 0\n",
    "        return float(n) / N\n",
    "\n",
    "    N = sum(data.values())\n",
    "\n",
    "    return sum(p(n, N) ** 2 for n in data.values() if n != 0)"
   ]
  },
  {
   "cell_type": "code",
   "execution_count": 3,
   "metadata": {},
   "outputs": [],
   "source": [
    "primary = pd.read_parquet('../../nairobi/primary.parquet')"
   ]
  },
  {
   "cell_type": "code",
   "execution_count": 4,
   "metadata": {},
   "outputs": [
    {
     "name": "stderr",
     "output_type": "stream",
     "text": [
      "/opt/conda/lib/python3.8/site-packages/libpysal/weights/weights.py:172: UserWarning: The weights matrix is not fully connected: \n",
      " There are 139 disconnected components.\n",
      " There are 71 islands with ids: 3015, 11206, 13697, 13843, 14610, 15499, 18012, 19160, 19929, 20753, 20848, 24983, 29611, 32447, 36310, 119946, 165193, 168594, 174847, 175116, 177539, 187644, 188706, 190477, 191837, 335522, 345106, 351469, 365303, 408100, 410691, 411858, 412434, 421880, 431056, 432690, 435297, 440087, 442249, 444120, 444560, 446730, 452966, 455208, 458582, 464477, 476583, 484954, 485738, 489098, 496837, 500059, 501163, 501321, 501441, 501614, 502050, 502394, 503034, 503630, 503905, 503950, 505797, 506779, 507048, 507143, 507325, 507472, 507474, 507510, 507511.\n",
      "  warnings.warn(message)\n"
     ]
    }
   ],
   "source": [
    "queen3 = libpysal.io.open('../../nairobi/queen3.gal').read()\n",
    "queen3.neighbors = {int(k): [int(i) for i in v] for k, v in queen3.neighbors.items()}  # we need values as integers again"
   ]
  },
  {
   "cell_type": "code",
   "execution_count": 5,
   "metadata": {},
   "outputs": [],
   "source": [
    "gdf = primary\n",
    "spatial_weights = queen3"
   ]
  },
  {
   "cell_type": "code",
   "execution_count": 6,
   "metadata": {},
   "outputs": [],
   "source": [
    "gdf = gdf.set_index('uID')\n",
    "unique_id = 'uID'"
   ]
  },
  {
   "cell_type": "code",
   "execution_count": 41,
   "metadata": {},
   "outputs": [],
   "source": [
    "means = {}\n",
    "ranges = {}\n",
    "theils = {}"
   ]
  },
  {
   "cell_type": "code",
   "execution_count": 42,
   "metadata": {},
   "outputs": [],
   "source": [
    "for ch in gdf.columns:\n",
    "    means[ch] = []\n",
    "    ranges[ch] = []\n",
    "    theils[ch] = []"
   ]
  },
  {
   "cell_type": "code",
   "execution_count": 12,
   "metadata": {},
   "outputs": [],
   "source": [
    "gdf = gdf.fillna(0)  # normally does not happen, but to be sure\n",
    "chars = gdf.columns"
   ]
  },
  {
   "cell_type": "code",
   "execution_count": 10,
   "metadata": {},
   "outputs": [],
   "source": [
    "gdf['lcdMes'] = gdf.apply(\n",
    "            lambda row: row.lcdMes if row.lcdMes >= 0 else 0,\n",
    "            axis=1,\n",
    "        )  # normally does not happen, but to be sure"
   ]
  },
  {
   "cell_type": "code",
   "execution_count": 8,
   "metadata": {},
   "outputs": [],
   "source": [
    "gdf = gdf.round(6)"
   ]
  },
  {
   "cell_type": "code",
   "execution_count": 9,
   "metadata": {},
   "outputs": [],
   "source": [
    "gdf = gdf.drop(columns=\"highway\")"
   ]
  },
  {
   "cell_type": "code",
   "execution_count": null,
   "metadata": {},
   "outputs": [
    {
     "name": "stderr",
     "output_type": "stream",
     "text": [
      " 26%|██▋       | 133685/506435 [1:50:46<5:08:56, 20.11it/s]"
     ]
    }
   ],
   "source": [
    "for index, row in tqdm(gdf.iterrows(), total=gdf.shape[0]):\n",
    "    neighbours = [index]\n",
    "    neighbours += spatial_weights.neighbors[index]\n",
    "    \n",
    "    for ch in gdf.columns:\n",
    "        values_list = gdf.loc[neighbours][ch] \n",
    "        idec = limit_range(values_list, rng=(10, 90))\n",
    "        iquar = limit_range(values_list, rng=(25, 75))\n",
    "        \n",
    "        means[ch].append(np.mean(iquar))\n",
    "        ranges[ch].append(sp.stats.iqr(values_list, rng=(25, 75)))\n",
    "        theils[ch].append(theil(idec))"
   ]
  },
  {
   "cell_type": "code",
   "execution_count": null,
   "metadata": {},
   "outputs": [],
   "source": [
    "for ch in gdf.columns:\n",
    "    gdf[ch + '_meanIQ3'] = means[ch]\n",
    "    gdf[ch + '_rangeIQ3'] = ranges[ch]\n",
    "    gdf[ch + '_theilID3'] = theils[ch]"
   ]
  },
  {
   "cell_type": "code",
   "execution_count": 13,
   "metadata": {},
   "outputs": [],
   "source": [
    "skewness = pd.DataFrame(index=chars)\n",
    "for c in chars:\n",
    "    skewness.loc[c, 'skewness'] = sp.stats.skew(gdf[c])\n",
    "headtail = list(skewness.loc[skewness.skewness >= 1].index)\n",
    "to_invert = skewness.loc[skewness.skewness <= -1].index\n",
    "\n",
    "for inv in to_invert:\n",
    "    gdf[inv + '_r'] = gdf[inv].max() - gdf[inv]\n",
    "inverted = [x for x in gdf.columns if '_r' in x]\n",
    "headtail = headtail + inverted\n",
    "natural = [x for x in chars if x not in headtail]"
   ]
  },
  {
   "cell_type": "code",
   "execution_count": 14,
   "metadata": {},
   "outputs": [],
   "source": [
    "schemes = {}\n",
    "for classifier in classifiers.CLASSIFIERS:\n",
    "    schemes[classifier.lower()] = getattr(classifiers, classifier)"
   ]
  },
  {
   "cell_type": "code",
   "execution_count": 15,
   "metadata": {},
   "outputs": [
    {
     "name": "stderr",
     "output_type": "stream",
     "text": [
      "/opt/conda/lib/python3.8/site-packages/mapclassify/classifiers.py:1712: UserWarning: Warning: Not enough unique values in array to form k classes\n",
      "  Warn(ms, UserWarning)\n",
      "/opt/conda/lib/python3.8/site-packages/mapclassify/classifiers.py:1713: UserWarning: Warning: setting k to 1\n",
      "  Warn(\"Warning: setting k to %d\" % uvk, UserWarning)\n",
      "/opt/conda/lib/python3.8/site-packages/mapclassify/classifiers.py:888: RuntimeWarning: invalid value encountered in double_scalars\n",
      "  gadf = 1 - self.adcm / adam\n",
      "/opt/conda/lib/python3.8/site-packages/mapclassify/classifiers.py:2644: RuntimeWarning: invalid value encountered in double_scalars\n",
      "  gadf = 1 - cl.adcm / adam\n"
     ]
    }
   ],
   "source": [
    "results = {}\n",
    "for c in headtail + natural:\n",
    "    results[c] = []\n",
    "bins = {}\n",
    "for c in headtail:\n",
    "    bins[c] = schemes['headtailbreaks'](gdf[c]).bins\n",
    "for c in natural:\n",
    "    bins[c] = mapclassify.gadf(gdf[c], method='NaturalBreaks')[1].bins"
   ]
  },
  {
   "cell_type": "code",
   "execution_count": 16,
   "metadata": {},
   "outputs": [
    {
     "name": "stderr",
     "output_type": "stream",
     "text": [
      "  0%|          | 0/506435 [00:00<?, ?it/s]/opt/conda/lib/python3.8/site-packages/mapclassify/classifiers.py:888: RuntimeWarning: invalid value encountered in double_scalars\n",
      "  gadf = 1 - self.adcm / adam\n",
      "100%|██████████| 506435/506435 [3:39:42<00:00, 38.42it/s]  \n"
     ]
    }
   ],
   "source": [
    "for index, row in tqdm(gdf.iterrows(), total=gdf.shape[0]):\n",
    "    neighbours = [index]\n",
    "    neighbours += spatial_weights.neighbors[index]\n",
    "    \n",
    "    subset = gdf.loc[neighbours]\n",
    "    for c in headtail + natural:\n",
    "        values = subset[c]\n",
    "        sample_bins = classifiers.UserDefined(values, list(bins[c]))\n",
    "        counts = dict(zip(bins[c], sample_bins.counts))\n",
    "        results[c].append(_simpson_di(counts))"
   ]
  },
  {
   "cell_type": "code",
   "execution_count": 17,
   "metadata": {},
   "outputs": [],
   "source": [
    "for c in headtail + natural:\n",
    "    gdf[c + '_simpson'] = results[c]"
   ]
  },
  {
   "cell_type": "code",
   "execution_count": 18,
   "metadata": {},
   "outputs": [
    {
     "data": {
      "text/plain": [
       "Index(['stcOri', 'sdcLAL', 'sdcAre', 'sscCCo', 'sscERI', 'sicCAR', 'mtcWNe',\n",
       "       'mdcAre', 'ltcWRB', 'stcSAl',\n",
       "       ...\n",
       "       'lskERI_simpson', 'ltkOri_simpson', 'sdsSPW_simpson', 'sdsSPO_simpson',\n",
       "       'sdsSWD_simpson', 'sssLin_simpson', 'mtdDeg_simpson', 'lcdMes_simpson',\n",
       "       'linPDE_simpson', 'lcnClo_simpson'],\n",
       "      dtype='object', length=130)"
      ]
     },
     "execution_count": 18,
     "metadata": {},
     "output_type": "execute_result"
    }
   ],
   "source": [
    "gdf.columns"
   ]
  },
  {
   "cell_type": "code",
   "execution_count": null,
   "metadata": {},
   "outputs": [],
   "source": [
    "gdf.rename(columns={'sscERI_r_simpson': 'sscERI_simpson', 'ssbERI_r_simpson': 'ssbERI_simpson',}, inplace=True)"
   ]
  },
  {
   "cell_type": "code",
   "execution_count": 19,
   "metadata": {},
   "outputs": [],
   "source": [
    "pat = [x for x in gdf.columns if '_' in x]\n",
    "gdf2 = gdf[[x for x in pat if 'uID' not in x]].reset_index()"
   ]
  },
  {
   "cell_type": "code",
   "execution_count": null,
   "metadata": {},
   "outputs": [],
   "source": [
    "gdf2.columns.duplicated()"
   ]
  },
  {
   "cell_type": "code",
   "execution_count": 20,
   "metadata": {},
   "outputs": [],
   "source": [
    "gdf2.to_parquet('../../nairobi/contextual_simpson.parquet')"
   ]
  },
  {
   "cell_type": "code",
   "execution_count": 49,
   "metadata": {},
   "outputs": [
    {
     "data": {
      "text/html": [
       "<div>\n",
       "<style scoped>\n",
       "    .dataframe tbody tr th:only-of-type {\n",
       "        vertical-align: middle;\n",
       "    }\n",
       "\n",
       "    .dataframe tbody tr th {\n",
       "        vertical-align: top;\n",
       "    }\n",
       "\n",
       "    .dataframe thead th {\n",
       "        text-align: right;\n",
       "    }\n",
       "</style>\n",
       "<table border=\"1\" class=\"dataframe\">\n",
       "  <thead>\n",
       "    <tr style=\"text-align: right;\">\n",
       "      <th></th>\n",
       "      <th>uID</th>\n",
       "      <th>stcOri_meanIQ3</th>\n",
       "      <th>stcOri_rangeIQ3</th>\n",
       "      <th>stcOri_theilID3</th>\n",
       "      <th>sdcLAL_meanIQ3</th>\n",
       "      <th>sdcLAL_rangeIQ3</th>\n",
       "      <th>sdcLAL_theilID3</th>\n",
       "      <th>sdcAre_meanIQ3</th>\n",
       "      <th>sdcAre_rangeIQ3</th>\n",
       "      <th>sdcAre_theilID3</th>\n",
       "      <th>...</th>\n",
       "      <th>lddARe_theilID3</th>\n",
       "      <th>sddAre_meanIQ3</th>\n",
       "      <th>sddAre_rangeIQ3</th>\n",
       "      <th>sddAre_theilID3</th>\n",
       "      <th>midRea_meanIQ3</th>\n",
       "      <th>midRea_rangeIQ3</th>\n",
       "      <th>midRea_theilID3</th>\n",
       "      <th>midAre_meanIQ3</th>\n",
       "      <th>midAre_rangeIQ3</th>\n",
       "      <th>midAre_theilID3</th>\n",
       "    </tr>\n",
       "  </thead>\n",
       "  <tbody>\n",
       "    <tr>\n",
       "      <th>0</th>\n",
       "      <td>0</td>\n",
       "      <td>8.690215</td>\n",
       "      <td>13.745575</td>\n",
       "      <td>0.333951</td>\n",
       "      <td>115.638400</td>\n",
       "      <td>43.197802</td>\n",
       "      <td>0.033617</td>\n",
       "      <td>5260.655169</td>\n",
       "      <td>7588.760250</td>\n",
       "      <td>0.174004</td>\n",
       "      <td>...</td>\n",
       "      <td>0.008113</td>\n",
       "      <td>84128.089976</td>\n",
       "      <td>54502.216490</td>\n",
       "      <td>0.082711</td>\n",
       "      <td>56.000000</td>\n",
       "      <td>41.00</td>\n",
       "      <td>0.055547</td>\n",
       "      <td>209051.361345</td>\n",
       "      <td>81741.748888</td>\n",
       "      <td>0.031183</td>\n",
       "    </tr>\n",
       "    <tr>\n",
       "      <th>1</th>\n",
       "      <td>1</td>\n",
       "      <td>17.107346</td>\n",
       "      <td>28.356627</td>\n",
       "      <td>0.364632</td>\n",
       "      <td>60.961918</td>\n",
       "      <td>70.039744</td>\n",
       "      <td>0.104780</td>\n",
       "      <td>1255.973917</td>\n",
       "      <td>2621.825395</td>\n",
       "      <td>0.303457</td>\n",
       "      <td>...</td>\n",
       "      <td>0.008941</td>\n",
       "      <td>16348.304121</td>\n",
       "      <td>6578.714927</td>\n",
       "      <td>0.015081</td>\n",
       "      <td>46.291667</td>\n",
       "      <td>39.00</td>\n",
       "      <td>0.068966</td>\n",
       "      <td>44383.228233</td>\n",
       "      <td>22021.813914</td>\n",
       "      <td>0.036167</td>\n",
       "    </tr>\n",
       "    <tr>\n",
       "      <th>2</th>\n",
       "      <td>2</td>\n",
       "      <td>7.699236</td>\n",
       "      <td>16.851171</td>\n",
       "      <td>0.407314</td>\n",
       "      <td>45.145050</td>\n",
       "      <td>32.446339</td>\n",
       "      <td>0.099529</td>\n",
       "      <td>717.559132</td>\n",
       "      <td>932.747991</td>\n",
       "      <td>0.469423</td>\n",
       "      <td>...</td>\n",
       "      <td>0.807105</td>\n",
       "      <td>16615.312454</td>\n",
       "      <td>3376.471169</td>\n",
       "      <td>0.042167</td>\n",
       "      <td>32.838710</td>\n",
       "      <td>11.00</td>\n",
       "      <td>0.071209</td>\n",
       "      <td>32471.304686</td>\n",
       "      <td>24619.212867</td>\n",
       "      <td>0.086180</td>\n",
       "    </tr>\n",
       "    <tr>\n",
       "      <th>3</th>\n",
       "      <td>3</td>\n",
       "      <td>19.012996</td>\n",
       "      <td>19.053156</td>\n",
       "      <td>0.119368</td>\n",
       "      <td>95.261736</td>\n",
       "      <td>47.425937</td>\n",
       "      <td>0.032151</td>\n",
       "      <td>2701.697845</td>\n",
       "      <td>2189.293257</td>\n",
       "      <td>0.106185</td>\n",
       "      <td>...</td>\n",
       "      <td>0.003860</td>\n",
       "      <td>44432.908576</td>\n",
       "      <td>11912.247415</td>\n",
       "      <td>0.028789</td>\n",
       "      <td>49.000000</td>\n",
       "      <td>18.00</td>\n",
       "      <td>0.030669</td>\n",
       "      <td>132284.092048</td>\n",
       "      <td>54797.623870</td>\n",
       "      <td>0.026767</td>\n",
       "    </tr>\n",
       "    <tr>\n",
       "      <th>4</th>\n",
       "      <td>4</td>\n",
       "      <td>22.519366</td>\n",
       "      <td>22.271200</td>\n",
       "      <td>0.193274</td>\n",
       "      <td>78.545408</td>\n",
       "      <td>65.914871</td>\n",
       "      <td>0.081129</td>\n",
       "      <td>1827.189199</td>\n",
       "      <td>3459.816373</td>\n",
       "      <td>0.332190</td>\n",
       "      <td>...</td>\n",
       "      <td>0.030171</td>\n",
       "      <td>46195.334468</td>\n",
       "      <td>7346.767908</td>\n",
       "      <td>0.003133</td>\n",
       "      <td>84.478261</td>\n",
       "      <td>100.00</td>\n",
       "      <td>0.173431</td>\n",
       "      <td>134231.364619</td>\n",
       "      <td>98437.630441</td>\n",
       "      <td>0.065439</td>\n",
       "    </tr>\n",
       "    <tr>\n",
       "      <th>...</th>\n",
       "      <td>...</td>\n",
       "      <td>...</td>\n",
       "      <td>...</td>\n",
       "      <td>...</td>\n",
       "      <td>...</td>\n",
       "      <td>...</td>\n",
       "      <td>...</td>\n",
       "      <td>...</td>\n",
       "      <td>...</td>\n",
       "      <td>...</td>\n",
       "      <td>...</td>\n",
       "      <td>...</td>\n",
       "      <td>...</td>\n",
       "      <td>...</td>\n",
       "      <td>...</td>\n",
       "      <td>...</td>\n",
       "      <td>...</td>\n",
       "      <td>...</td>\n",
       "      <td>...</td>\n",
       "      <td>...</td>\n",
       "      <td>...</td>\n",
       "    </tr>\n",
       "    <tr>\n",
       "      <th>506430</th>\n",
       "      <td>507527</td>\n",
       "      <td>19.687929</td>\n",
       "      <td>15.156462</td>\n",
       "      <td>0.128418</td>\n",
       "      <td>184.452129</td>\n",
       "      <td>47.343257</td>\n",
       "      <td>0.008062</td>\n",
       "      <td>14048.544773</td>\n",
       "      <td>11533.782290</td>\n",
       "      <td>0.111906</td>\n",
       "      <td>...</td>\n",
       "      <td>0.010786</td>\n",
       "      <td>397608.558320</td>\n",
       "      <td>62749.083652</td>\n",
       "      <td>0.003111</td>\n",
       "      <td>59.923077</td>\n",
       "      <td>11.00</td>\n",
       "      <td>0.004213</td>\n",
       "      <td>874887.395962</td>\n",
       "      <td>156923.244976</td>\n",
       "      <td>0.004022</td>\n",
       "    </tr>\n",
       "    <tr>\n",
       "      <th>506431</th>\n",
       "      <td>507528</td>\n",
       "      <td>12.812096</td>\n",
       "      <td>18.004769</td>\n",
       "      <td>0.198687</td>\n",
       "      <td>106.529893</td>\n",
       "      <td>69.976596</td>\n",
       "      <td>0.060260</td>\n",
       "      <td>3816.254174</td>\n",
       "      <td>5079.873545</td>\n",
       "      <td>0.214102</td>\n",
       "      <td>...</td>\n",
       "      <td>0.022618</td>\n",
       "      <td>28891.725607</td>\n",
       "      <td>10655.582934</td>\n",
       "      <td>0.026913</td>\n",
       "      <td>19.782609</td>\n",
       "      <td>19.25</td>\n",
       "      <td>0.176708</td>\n",
       "      <td>45391.649619</td>\n",
       "      <td>49578.479856</td>\n",
       "      <td>0.100455</td>\n",
       "    </tr>\n",
       "    <tr>\n",
       "      <th>506432</th>\n",
       "      <td>507529</td>\n",
       "      <td>33.110922</td>\n",
       "      <td>24.847249</td>\n",
       "      <td>0.113949</td>\n",
       "      <td>54.269134</td>\n",
       "      <td>60.121538</td>\n",
       "      <td>0.132972</td>\n",
       "      <td>1034.006488</td>\n",
       "      <td>2241.823786</td>\n",
       "      <td>0.398487</td>\n",
       "      <td>...</td>\n",
       "      <td>0.088036</td>\n",
       "      <td>21272.508388</td>\n",
       "      <td>40706.759142</td>\n",
       "      <td>0.338119</td>\n",
       "      <td>22.795455</td>\n",
       "      <td>19.00</td>\n",
       "      <td>0.421368</td>\n",
       "      <td>61686.671468</td>\n",
       "      <td>56209.577352</td>\n",
       "      <td>0.107780</td>\n",
       "    </tr>\n",
       "    <tr>\n",
       "      <th>506433</th>\n",
       "      <td>507530</td>\n",
       "      <td>16.393865</td>\n",
       "      <td>27.536475</td>\n",
       "      <td>0.298553</td>\n",
       "      <td>105.057072</td>\n",
       "      <td>76.002043</td>\n",
       "      <td>0.090215</td>\n",
       "      <td>3286.633690</td>\n",
       "      <td>4229.604974</td>\n",
       "      <td>0.239890</td>\n",
       "      <td>...</td>\n",
       "      <td>0.018372</td>\n",
       "      <td>67684.048652</td>\n",
       "      <td>27161.168313</td>\n",
       "      <td>0.214722</td>\n",
       "      <td>19.250000</td>\n",
       "      <td>28.00</td>\n",
       "      <td>0.554787</td>\n",
       "      <td>86233.695861</td>\n",
       "      <td>0.000000</td>\n",
       "      <td>0.203550</td>\n",
       "    </tr>\n",
       "    <tr>\n",
       "      <th>506434</th>\n",
       "      <td>507531</td>\n",
       "      <td>1.102647</td>\n",
       "      <td>1.362494</td>\n",
       "      <td>0.367845</td>\n",
       "      <td>212.575215</td>\n",
       "      <td>3.573084</td>\n",
       "      <td>0.018600</td>\n",
       "      <td>16921.169111</td>\n",
       "      <td>14699.228401</td>\n",
       "      <td>0.229188</td>\n",
       "      <td>...</td>\n",
       "      <td>0.000000</td>\n",
       "      <td>0.000000</td>\n",
       "      <td>0.000000</td>\n",
       "      <td>0.000000</td>\n",
       "      <td>0.000000</td>\n",
       "      <td>0.00</td>\n",
       "      <td>0.000000</td>\n",
       "      <td>0.000000</td>\n",
       "      <td>0.000000</td>\n",
       "      <td>0.000000</td>\n",
       "    </tr>\n",
       "  </tbody>\n",
       "</table>\n",
       "<p>506435 rows × 184 columns</p>\n",
       "</div>"
      ],
      "text/plain": [
       "           uID  stcOri_meanIQ3  stcOri_rangeIQ3  stcOri_theilID3  \\\n",
       "0            0        8.690215        13.745575         0.333951   \n",
       "1            1       17.107346        28.356627         0.364632   \n",
       "2            2        7.699236        16.851171         0.407314   \n",
       "3            3       19.012996        19.053156         0.119368   \n",
       "4            4       22.519366        22.271200         0.193274   \n",
       "...        ...             ...              ...              ...   \n",
       "506430  507527       19.687929        15.156462         0.128418   \n",
       "506431  507528       12.812096        18.004769         0.198687   \n",
       "506432  507529       33.110922        24.847249         0.113949   \n",
       "506433  507530       16.393865        27.536475         0.298553   \n",
       "506434  507531        1.102647         1.362494         0.367845   \n",
       "\n",
       "        sdcLAL_meanIQ3  sdcLAL_rangeIQ3  sdcLAL_theilID3  sdcAre_meanIQ3  \\\n",
       "0           115.638400        43.197802         0.033617     5260.655169   \n",
       "1            60.961918        70.039744         0.104780     1255.973917   \n",
       "2            45.145050        32.446339         0.099529      717.559132   \n",
       "3            95.261736        47.425937         0.032151     2701.697845   \n",
       "4            78.545408        65.914871         0.081129     1827.189199   \n",
       "...                ...              ...              ...             ...   \n",
       "506430      184.452129        47.343257         0.008062    14048.544773   \n",
       "506431      106.529893        69.976596         0.060260     3816.254174   \n",
       "506432       54.269134        60.121538         0.132972     1034.006488   \n",
       "506433      105.057072        76.002043         0.090215     3286.633690   \n",
       "506434      212.575215         3.573084         0.018600    16921.169111   \n",
       "\n",
       "        sdcAre_rangeIQ3  sdcAre_theilID3  ...  lddARe_theilID3  \\\n",
       "0           7588.760250         0.174004  ...         0.008113   \n",
       "1           2621.825395         0.303457  ...         0.008941   \n",
       "2            932.747991         0.469423  ...         0.807105   \n",
       "3           2189.293257         0.106185  ...         0.003860   \n",
       "4           3459.816373         0.332190  ...         0.030171   \n",
       "...                 ...              ...  ...              ...   \n",
       "506430     11533.782290         0.111906  ...         0.010786   \n",
       "506431      5079.873545         0.214102  ...         0.022618   \n",
       "506432      2241.823786         0.398487  ...         0.088036   \n",
       "506433      4229.604974         0.239890  ...         0.018372   \n",
       "506434     14699.228401         0.229188  ...         0.000000   \n",
       "\n",
       "        sddAre_meanIQ3  sddAre_rangeIQ3  sddAre_theilID3  midRea_meanIQ3  \\\n",
       "0         84128.089976     54502.216490         0.082711       56.000000   \n",
       "1         16348.304121      6578.714927         0.015081       46.291667   \n",
       "2         16615.312454      3376.471169         0.042167       32.838710   \n",
       "3         44432.908576     11912.247415         0.028789       49.000000   \n",
       "4         46195.334468      7346.767908         0.003133       84.478261   \n",
       "...                ...              ...              ...             ...   \n",
       "506430   397608.558320     62749.083652         0.003111       59.923077   \n",
       "506431    28891.725607     10655.582934         0.026913       19.782609   \n",
       "506432    21272.508388     40706.759142         0.338119       22.795455   \n",
       "506433    67684.048652     27161.168313         0.214722       19.250000   \n",
       "506434        0.000000         0.000000         0.000000        0.000000   \n",
       "\n",
       "        midRea_rangeIQ3  midRea_theilID3  midAre_meanIQ3  midAre_rangeIQ3  \\\n",
       "0                 41.00         0.055547   209051.361345     81741.748888   \n",
       "1                 39.00         0.068966    44383.228233     22021.813914   \n",
       "2                 11.00         0.071209    32471.304686     24619.212867   \n",
       "3                 18.00         0.030669   132284.092048     54797.623870   \n",
       "4                100.00         0.173431   134231.364619     98437.630441   \n",
       "...                 ...              ...             ...              ...   \n",
       "506430            11.00         0.004213   874887.395962    156923.244976   \n",
       "506431            19.25         0.176708    45391.649619     49578.479856   \n",
       "506432            19.00         0.421368    61686.671468     56209.577352   \n",
       "506433            28.00         0.554787    86233.695861         0.000000   \n",
       "506434             0.00         0.000000        0.000000         0.000000   \n",
       "\n",
       "        midAre_theilID3  \n",
       "0              0.031183  \n",
       "1              0.036167  \n",
       "2              0.086180  \n",
       "3              0.026767  \n",
       "4              0.065439  \n",
       "...                 ...  \n",
       "506430         0.004022  \n",
       "506431         0.100455  \n",
       "506432         0.107780  \n",
       "506433         0.203550  \n",
       "506434         0.000000  \n",
       "\n",
       "[506435 rows x 184 columns]"
      ]
     },
     "execution_count": 49,
     "metadata": {},
     "output_type": "execute_result"
    }
   ],
   "source": [
    "gdf2"
   ]
  },
  {
   "cell_type": "code",
   "execution_count": null,
   "metadata": {},
   "outputs": [],
   "source": []
  }
 ],
 "metadata": {
  "kernelspec": {
   "display_name": "Python 3",
   "language": "python",
   "name": "python3"
  },
  "language_info": {
   "codemirror_mode": {
    "name": "ipython",
    "version": 3
   },
   "file_extension": ".py",
   "mimetype": "text/x-python",
   "name": "python",
   "nbconvert_exporter": "python",
   "pygments_lexer": "ipython3",
   "version": "3.8.6"
  }
 },
 "nbformat": 4,
 "nbformat_minor": 4
}
